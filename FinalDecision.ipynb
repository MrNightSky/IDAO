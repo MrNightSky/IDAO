{
 "cells": [
  {
   "cell_type": "markdown",
   "metadata": {},
   "source": [
    "To use it you need the next files:\n",
    "    - 'test.hdf'\n",
    "    - 'train1.hdf'\n",
    "    - 'train2.hdf'\n",
    "    - 'test_private.hdf'\n",
    "    - 'features.npy'\n",
    "    - 'add_features.npy'"
   ]
  },
  {
   "cell_type": "code",
   "execution_count": 1,
   "metadata": {},
   "outputs": [],
   "source": [
    "import os\n",
    "import numpy as np\n",
    "import pandas as pd\n",
    "import h5py\n",
    "import lightgbm as lgb\n",
    "import scoring\n",
    "import matplotlib.pyplot as plt\n",
    "import tqdm\n",
    "\n",
    "from hep_ml import splot\n",
    "from sklearn.linear_model import LogisticRegression"
   ]
  },
  {
   "cell_type": "markdown",
   "metadata": {},
   "source": [
    "Open files"
   ]
  },
  {
   "cell_type": "code",
   "execution_count": 3,
   "metadata": {},
   "outputs": [
    {
     "name": "stdout",
     "output_type": "stream",
     "text": [
      "['sWeight' 'particle_type' 'label' 'kinWeight' 'weight']\n"
     ]
    }
   ],
   "source": [
    "train_hdf1 = h5py.File('train1.hdf', mode = 'r')\n",
    "train_hdf2 = h5py.File('train2.hdf', mode = 'r')\n",
    "features = np.load('features.npy')\n",
    "add_features = np.load('add_features.npy')\n",
    "print(add_features)"
   ]
  },
  {
   "cell_type": "markdown",
   "metadata": {},
   "source": [
    "Choose features of 0, 1, 2, 3 stations"
   ]
  },
  {
   "cell_type": "code",
   "execution_count": 4,
   "metadata": {},
   "outputs": [],
   "source": [
    "features_0 = [0, 4, 8, 9, 13, 17, 21, 25, 29, 33, 37, 41, 45, 49, 53, 54, 58, 62, 63, 64, 65, 66, 67, 68, 69, 70, 71, 72, 73, 74, 75, 76, 77, 78, 79, 80,\n",
    "       81, 82, 83, 84, 85, 86, 87]\n",
    "features_1 = [1,  5,  8, 10, 14, 18, 22, 26, 30, 34, 38, 42, 46, 50, 53, 55, 59, 62, 63, 64, 65, 66, 67, 68, 69, 70, 71, 72, 73, 74,\n",
    "              75, 76, 77, 78, 79, 80, 81, 82, 83, 84, 85, 86, 87]\n",
    "features_2 = [ 2,  6, 8, 11, 15, 19, 23, 27, 31, 35, 39, 43, 47, 51, 53, 56, 60, 62, 63, 64, 65, 66, 67, 68, 69, 70, 71, 72, 73, 74, 75, 76,\n",
    "              77, 78, 79, 80, 81, 82, 83, 84, 85, 86, 87]\n",
    "features_3 = [ 3,  7, 8, 12, 16, 20, 24, 28, 32, 36, 40, 44, 48, 52, 53, 57, 61, 62, 63, 64, 65, 66, 67, 68, 69, 70, 71, 72, 73,\n",
    "              74, 75, 76, 77, 78, 79, 80, 81, 82, 83, 84, 85, 86, 87]"
   ]
  },
  {
   "cell_type": "markdown",
   "metadata": {},
   "source": [
    "Create models for 0, 1, 2, 3 stations + to determine muon&pion and muon&proton"
   ]
  },
  {
   "cell_type": "code",
   "execution_count": 5,
   "metadata": {},
   "outputs": [],
   "source": [
    "model0 = lgb.LGBMClassifier(bagging_fraction=0.8, bagging_freq=1, boosting_type='gbdt',\n",
    "                            class_weight=None, colsample_bytree=0.8686735616702099,\n",
    "                            feature_fraction=0.8, importance_type='split', learning_rate=0.1,\n",
    "                            max_depth=-1, metric='auc', min_child_samples=5,\n",
    "                            min_child_weight=0.001, min_split_gain=0.0, n_estimators=700,\n",
    "                            n_jobs=-1, num_leaves=205, objective='binary', random_state=42,\n",
    "                            reg_alpha=0.18989485009024593, reg_lambda=0.37919679987403715,\n",
    "                            save_binary=True, silent=True, subsample=1.0,\n",
    "                            subsample_for_bin=320000, subsample_freq=0)\n",
    "model1 = lgb.LGBMClassifier(bagging_fraction=0.8, bagging_freq=1, boosting_type='gbdt',\n",
    "                            class_weight=None, colsample_bytree=0.8686735616702099,\n",
    "                            feature_fraction=0.8, importance_type='split', learning_rate=0.1,\n",
    "                            max_depth=-1, metric='auc', min_child_samples=5,\n",
    "                            min_child_weight=0.001, min_split_gain=0.0, n_estimators=700,\n",
    "                            n_jobs=-1, num_leaves=205, objective='binary', random_state=42,\n",
    "                            reg_alpha=0.18989485009024593, reg_lambda=0.37919679987403715,\n",
    "                            save_binary=True, silent=True, subsample=1.0,\n",
    "                            subsample_for_bin=320000, subsample_freq=0)\n",
    "model2 = lgb.LGBMClassifier(bagging_fraction=0.8, bagging_freq=1, boosting_type='gbdt',\n",
    "                            class_weight=None, colsample_bytree=0.8686735616702099,\n",
    "                            feature_fraction=0.8, importance_type='split', learning_rate=0.1,\n",
    "                            max_depth=-1, metric='auc', min_child_samples=5,\n",
    "                            min_child_weight=0.001, min_split_gain=0.0, n_estimators=700,\n",
    "                            n_jobs=-1, num_leaves=205, objective='binary', random_state=42,\n",
    "                            reg_alpha=0.18989485009024593, reg_lambda=0.37919679987403715,\n",
    "                            save_binary=True, silent=True, subsample=1.0,\n",
    "                            subsample_for_bin=320000, subsample_freq=0)\n",
    "model3 = lgb.LGBMClassifier(bagging_fraction=0.8, bagging_freq=1, boosting_type='gbdt',\n",
    "                            class_weight=None, colsample_bytree=0.8686735616702099,\n",
    "                            feature_fraction=0.8, importance_type='split', learning_rate=0.1,\n",
    "                            max_depth=-1, metric='auc', min_child_samples=5,\n",
    "                            min_child_weight=0.001, min_split_gain=0.0, n_estimators=700,\n",
    "                            n_jobs=-1, num_leaves=205, objective='binary', random_state=42,\n",
    "                            reg_alpha=0.18989485009024593, reg_lambda=0.37919679987403715,\n",
    "                            save_binary=True, silent=True, subsample=1.0,\n",
    "                            subsample_for_bin=320000, subsample_freq=0)\n",
    "model_pion = lgb.LGBMClassifier(bagging_fraction=0.8, bagging_freq=1, boosting_type='gbdt',\n",
    "                            class_weight=None, colsample_bytree=0.8686735616702099,\n",
    "                            feature_fraction=0.8, importance_type='split', learning_rate=0.1,\n",
    "                            max_depth=-1, metric='auc', min_child_samples=5,\n",
    "                            min_child_weight=0.001, min_split_gain=0.0, n_estimators=700,\n",
    "                            n_jobs=-1, num_leaves=205, objective='binary', random_state=42,\n",
    "                            reg_alpha=0.18989485009024593, reg_lambda=0.37919679987403715,\n",
    "                            save_binary=True, silent=True, subsample=1.0,\n",
    "                            subsample_for_bin=320000, subsample_freq=0)\n",
    "model_proton = lgb.LGBMClassifier(bagging_fraction=0.8, bagging_freq=1, boosting_type='gbdt',\n",
    "                            class_weight=None, colsample_bytree=0.8686735616702099,\n",
    "                            feature_fraction=0.8, importance_type='split', learning_rate=0.1,\n",
    "                            max_depth=-1, metric='auc', min_child_samples=5,\n",
    "                            min_child_weight=0.001, min_split_gain=0.0, n_estimators=700,\n",
    "                            n_jobs=-1, num_leaves=205, objective='binary', random_state=42,\n",
    "                            reg_alpha=0.18989485009024593, reg_lambda=0.37919679987403715,\n",
    "                            save_binary=True, silent=True, subsample=1.0,\n",
    "                            subsample_for_bin=320000, subsample_freq=0)"
   ]
  },
  {
   "cell_type": "markdown",
   "metadata": {},
   "source": [
    "Using of absolut amount of weights cause the better score"
   ]
  },
  {
   "cell_type": "code",
   "execution_count": 6,
   "metadata": {},
   "outputs": [],
   "source": [
    "abs_weights = np.abs(np.concatenate((np.array(train_hdf1['add_features'][:, 4]), np.array(train_hdf2['add_features'][:, 4]))))"
   ]
  },
  {
   "cell_type": "markdown",
   "metadata": {},
   "source": [
    "Divide the labels and features for pion/muon and proton/muon"
   ]
  },
  {
   "cell_type": "code",
   "execution_count": 7,
   "metadata": {},
   "outputs": [],
   "source": [
    "train_hdf_div = h5py.File('train_div.hdf', mode = 'r')\n",
    "particle_type = np.array(train_hdf_div['particle_type'])\n",
    "labels_pion = particle_type[(particle_type == 1) + (particle_type == 0)].copy()\n",
    "labels_proton = particle_type[(particle_type == 1) + (particle_type == 2)].copy()\n",
    "labels_proton[labels_proton == 2] = 0\n",
    "train_hdf_div.close()"
   ]
  },
  {
   "cell_type": "markdown",
   "metadata": {},
   "source": [
    "Training of all models"
   ]
  },
  {
   "cell_type": "code",
   "execution_count": 8,
   "metadata": {},
   "outputs": [
    {
     "name": "stdout",
     "output_type": "stream",
     "text": [
      "CPU times: user 1h 9min 12s, sys: 41.4 s, total: 1h 9min 53s\n",
      "Wall time: 8min 55s\n"
     ]
    },
    {
     "data": {
      "text/plain": [
       "LGBMClassifier(bagging_fraction=0.8, bagging_freq=1, boosting_type='gbdt',\n",
       "        class_weight=None, colsample_bytree=0.8686735616702099,\n",
       "        feature_fraction=0.8, importance_type='split', learning_rate=0.1,\n",
       "        max_depth=-1, metric='auc', min_child_samples=5,\n",
       "        min_child_weight=0.001, min_split_gain=0.0, n_estimators=700,\n",
       "        n_jobs=-1, num_leaves=205, objective='binary', random_state=42,\n",
       "        reg_alpha=0.18989485009024593, reg_lambda=0.37919679987403715,\n",
       "        save_binary=True, silent=True, subsample=1.0,\n",
       "        subsample_for_bin=320000, subsample_freq=0)"
      ]
     },
     "execution_count": 8,
     "metadata": {},
     "output_type": "execute_result"
    }
   ],
   "source": [
    "%time model_pion.fit(np.concatenate((np.array(train_hdf1['features']), np.array(train_hdf2['features'])))[(particle_type == 1) + (particle_type == 0)], labels_pion, sample_weight=abs_weights[(particle_type == 1) + (particle_type == 0)])"
   ]
  },
  {
   "cell_type": "code",
   "execution_count": 9,
   "metadata": {},
   "outputs": [
    {
     "name": "stdout",
     "output_type": "stream",
     "text": [
      "CPU times: user 1h 12min 51s, sys: 43.9 s, total: 1h 13min 35s\n",
      "Wall time: 9min 22s\n"
     ]
    },
    {
     "data": {
      "text/plain": [
       "LGBMClassifier(bagging_fraction=0.8, bagging_freq=1, boosting_type='gbdt',\n",
       "        class_weight=None, colsample_bytree=0.8686735616702099,\n",
       "        feature_fraction=0.8, importance_type='split', learning_rate=0.1,\n",
       "        max_depth=-1, metric='auc', min_child_samples=5,\n",
       "        min_child_weight=0.001, min_split_gain=0.0, n_estimators=700,\n",
       "        n_jobs=-1, num_leaves=205, objective='binary', random_state=42,\n",
       "        reg_alpha=0.18989485009024593, reg_lambda=0.37919679987403715,\n",
       "        save_binary=True, silent=True, subsample=1.0,\n",
       "        subsample_for_bin=320000, subsample_freq=0)"
      ]
     },
     "execution_count": 9,
     "metadata": {},
     "output_type": "execute_result"
    }
   ],
   "source": [
    "%time model_proton.fit(np.concatenate((np.array(train_hdf1['features']), np.array(train_hdf2['features'])))[(particle_type == 1) + (particle_type == 2)], labels_proton, sample_weight=abs_weights[(particle_type == 1) + (particle_type == 2)])"
   ]
  },
  {
   "cell_type": "code",
   "execution_count": 10,
   "metadata": {},
   "outputs": [
    {
     "name": "stdout",
     "output_type": "stream",
     "text": [
      "CPU times: user 40min 37s, sys: 32.3 s, total: 41min 10s\n",
      "Wall time: 5min 14s\n"
     ]
    },
    {
     "data": {
      "text/plain": [
       "LGBMClassifier(bagging_fraction=0.8, bagging_freq=1, boosting_type='gbdt',\n",
       "        class_weight=None, colsample_bytree=0.8686735616702099,\n",
       "        feature_fraction=0.8, importance_type='split', learning_rate=0.1,\n",
       "        max_depth=-1, metric='auc', min_child_samples=5,\n",
       "        min_child_weight=0.001, min_split_gain=0.0, n_estimators=700,\n",
       "        n_jobs=-1, num_leaves=205, objective='binary', random_state=42,\n",
       "        reg_alpha=0.18989485009024593, reg_lambda=0.37919679987403715,\n",
       "        save_binary=True, silent=True, subsample=1.0,\n",
       "        subsample_for_bin=320000, subsample_freq=0)"
      ]
     },
     "execution_count": 10,
     "metadata": {},
     "output_type": "execute_result"
    }
   ],
   "source": [
    "%time model0.fit(np.concatenate((np.array(train_hdf1['features'][:, features_0]), np.array(train_hdf2['features'][:, features_0]))), np.concatenate((np.array(train_hdf1['labels']), np.array(train_hdf2['labels']))), sample_weight=abs_weights)"
   ]
  },
  {
   "cell_type": "code",
   "execution_count": 11,
   "metadata": {},
   "outputs": [
    {
     "name": "stdout",
     "output_type": "stream",
     "text": [
      "CPU times: user 40min 28s, sys: 30.9 s, total: 40min 59s\n",
      "Wall time: 5min 13s\n"
     ]
    },
    {
     "data": {
      "text/plain": [
       "LGBMClassifier(bagging_fraction=0.8, bagging_freq=1, boosting_type='gbdt',\n",
       "        class_weight=None, colsample_bytree=0.8686735616702099,\n",
       "        feature_fraction=0.8, importance_type='split', learning_rate=0.1,\n",
       "        max_depth=-1, metric='auc', min_child_samples=5,\n",
       "        min_child_weight=0.001, min_split_gain=0.0, n_estimators=700,\n",
       "        n_jobs=-1, num_leaves=205, objective='binary', random_state=42,\n",
       "        reg_alpha=0.18989485009024593, reg_lambda=0.37919679987403715,\n",
       "        save_binary=True, silent=True, subsample=1.0,\n",
       "        subsample_for_bin=320000, subsample_freq=0)"
      ]
     },
     "execution_count": 11,
     "metadata": {},
     "output_type": "execute_result"
    }
   ],
   "source": [
    "%time model1.fit(np.concatenate((np.array(train_hdf1['features'][:, features_1]), np.array(train_hdf2['features'][:, features_1]))), np.concatenate((np.array(train_hdf1['labels']), np.array(train_hdf2['labels']))), sample_weight=abs_weights)"
   ]
  },
  {
   "cell_type": "code",
   "execution_count": 12,
   "metadata": {},
   "outputs": [
    {
     "name": "stdout",
     "output_type": "stream",
     "text": [
      "CPU times: user 40min 57s, sys: 31.6 s, total: 41min 28s\n",
      "Wall time: 5min 16s\n"
     ]
    },
    {
     "data": {
      "text/plain": [
       "LGBMClassifier(bagging_fraction=0.8, bagging_freq=1, boosting_type='gbdt',\n",
       "        class_weight=None, colsample_bytree=0.8686735616702099,\n",
       "        feature_fraction=0.8, importance_type='split', learning_rate=0.1,\n",
       "        max_depth=-1, metric='auc', min_child_samples=5,\n",
       "        min_child_weight=0.001, min_split_gain=0.0, n_estimators=700,\n",
       "        n_jobs=-1, num_leaves=205, objective='binary', random_state=42,\n",
       "        reg_alpha=0.18989485009024593, reg_lambda=0.37919679987403715,\n",
       "        save_binary=True, silent=True, subsample=1.0,\n",
       "        subsample_for_bin=320000, subsample_freq=0)"
      ]
     },
     "execution_count": 12,
     "metadata": {},
     "output_type": "execute_result"
    }
   ],
   "source": [
    "%time model2.fit(np.concatenate((np.array(train_hdf1['features'][:, features_2]), np.array(train_hdf2['features'][:, features_2]))), np.concatenate((np.array(train_hdf1['labels']), np.array(train_hdf2['labels']))), sample_weight=abs_weights)"
   ]
  },
  {
   "cell_type": "code",
   "execution_count": 13,
   "metadata": {},
   "outputs": [
    {
     "name": "stdout",
     "output_type": "stream",
     "text": [
      "CPU times: user 40min 54s, sys: 33.2 s, total: 41min 27s\n",
      "Wall time: 5min 16s\n"
     ]
    },
    {
     "data": {
      "text/plain": [
       "LGBMClassifier(bagging_fraction=0.8, bagging_freq=1, boosting_type='gbdt',\n",
       "        class_weight=None, colsample_bytree=0.8686735616702099,\n",
       "        feature_fraction=0.8, importance_type='split', learning_rate=0.1,\n",
       "        max_depth=-1, metric='auc', min_child_samples=5,\n",
       "        min_child_weight=0.001, min_split_gain=0.0, n_estimators=700,\n",
       "        n_jobs=-1, num_leaves=205, objective='binary', random_state=42,\n",
       "        reg_alpha=0.18989485009024593, reg_lambda=0.37919679987403715,\n",
       "        save_binary=True, silent=True, subsample=1.0,\n",
       "        subsample_for_bin=320000, subsample_freq=0)"
      ]
     },
     "execution_count": 13,
     "metadata": {},
     "output_type": "execute_result"
    }
   ],
   "source": [
    "%time model3.fit(np.concatenate((np.array(train_hdf1['features'][:, features_3]), np.array(train_hdf2['features'][:, features_3]))), np.concatenate((np.array(train_hdf1['labels']), np.array(train_hdf2['labels']))), sample_weight=abs_weights)"
   ]
  },
  {
   "cell_type": "markdown",
   "metadata": {},
   "source": [
    "Public test prediction"
   ]
  },
  {
   "cell_type": "code",
   "execution_count": 14,
   "metadata": {},
   "outputs": [],
   "source": [
    "test_hdf = h5py.File('test.hdf', mode = 'r')\n",
    "predictions = (model_pion.predict_proba(np.array(test_hdf['feature']))[:, 1] +\n",
    "               model_proton.predict_proba(np.array(test_hdf['feature']))[:, 1] + \n",
    "               model0.predict_proba(np.array(test_hdf['feature'][:, features_0]))[:, 1] + \n",
    "               model1.predict_proba(np.array(test_hdf['feature'][:, features_1]))[:, 1] + \n",
    "               model2.predict_proba(np.array(test_hdf['feature'][:, features_2]))[:, 1] + \n",
    "               model3.predict_proba(np.array(test_hdf['feature'][:, features_3]))[:, 1]) / 6\n",
    "test_hdf.close()"
   ]
  },
  {
   "cell_type": "code",
   "execution_count": 15,
   "metadata": {},
   "outputs": [],
   "source": [
    "pd.DataFrame(data={\"prediction\": predictions}, index=range(726095)).to_csv(\n",
    "    \"private_result.csv\", index_label=\"id\")"
   ]
  },
  {
   "cell_type": "markdown",
   "metadata": {},
   "source": [
    "Private test prediction"
   ]
  },
  {
   "cell_type": "code",
   "execution_count": 19,
   "metadata": {},
   "outputs": [],
   "source": [
    "test_hdf = h5py.File('test_private.hdf', mode = 'r')\n",
    "predictions = (model_pion.predict_proba(np.array(test_hdf['features']))[:, 1] +\n",
    "               model_proton.predict_proba(np.array(test_hdf['features']))[:, 1] + \n",
    "               model0.predict_proba(np.array(test_hdf['features'][:, features_0]))[:, 1] + \n",
    "               model1.predict_proba(np.array(test_hdf['features'][:, features_1]))[:, 1] + \n",
    "               model2.predict_proba(np.array(test_hdf['features'][:, features_2]))[:, 1] + \n",
    "               model3.predict_proba(np.array(test_hdf['features'][:, features_3]))[:, 1]) / 6\n",
    "test_hdf.close()"
   ]
  },
  {
   "cell_type": "code",
   "execution_count": 28,
   "metadata": {},
   "outputs": [],
   "source": [
    "pd.DataFrame(data={\"prediction\": predictions.astype('float32')}, index=range(1452188)).to_csv(\n",
    "    \"private_result.csv\", index_label=\"id\")"
   ]
  }
 ],
 "metadata": {
  "kernelspec": {
   "display_name": "Python 3",
   "language": "python",
   "name": "python3"
  },
  "language_info": {
   "codemirror_mode": {
    "name": "ipython",
    "version": 3
   },
   "file_extension": ".py",
   "mimetype": "text/x-python",
   "name": "python",
   "nbconvert_exporter": "python",
   "pygments_lexer": "ipython3",
   "version": "3.6.5"
  }
 },
 "nbformat": 4,
 "nbformat_minor": 2
}
