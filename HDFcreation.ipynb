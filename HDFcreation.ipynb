{
 "cells": [
  {
   "cell_type": "markdown",
   "metadata": {},
   "source": [
    "To use it you need the next files:\n",
    "    - 'test_public_v2.hdf'\n",
    "    - 'train_part_1_v2.hdf'\n",
    "    - 'train_part_2_v2.hdf'\n",
    "    - 'test_private_v2_track_1.hdf'\n",
    "    - 'features.npy'\n",
    "    - 'add_features.npy'"
   ]
  },
  {
   "cell_type": "code",
   "execution_count": 1,
   "metadata": {},
   "outputs": [],
   "source": [
    "import pandas as pd\n",
    "import h5py\n",
    "import numpy as np\n",
    "import swifter\n",
    "import utils"
   ]
  },
  {
   "cell_type": "code",
   "execution_count": 2,
   "metadata": {},
   "outputs": [],
   "source": [
    "features = np.load('features.npy')\n",
    "add_features = np.load('add_features.npy')"
   ]
  },
  {
   "cell_type": "markdown",
   "metadata": {},
   "source": [
    "## Test public"
   ]
  },
  {
   "cell_type": "markdown",
   "metadata": {},
   "source": [
    "Data extraction and feature creation"
   ]
  },
  {
   "cell_type": "code",
   "execution_count": null,
   "metadata": {},
   "outputs": [],
   "source": [
    "test_pd = pd.read_hdf('test_public_v2.hdf', mode='r')\n",
    "chf_test = test_pd.swifter.apply(utils.find_closest_hit_per_station, result_type=\"expand\", axis=1)\n",
    "test_all = pd.concat((test_pd, chf_test), axis=1)"
   ]
  },
  {
   "cell_type": "markdown",
   "metadata": {},
   "source": [
    "hdf creation"
   ]
  },
  {
   "cell_type": "code",
   "execution_count": 20,
   "metadata": {},
   "outputs": [
    {
     "data": {
      "text/plain": [
       "<HDF5 dataset \"feature\": shape (726095, 88), type \"<f8\">"
      ]
     },
     "execution_count": 20,
     "metadata": {},
     "output_type": "execute_result"
    }
   ],
   "source": [
    "test_hdf = h5py.File('test.hdf', mode = 'a')\n",
    "test_hdf.create_dataset('feature', data=test_all[features].values)\n",
    "test_hdf.close()"
   ]
  },
  {
   "cell_type": "markdown",
   "metadata": {},
   "source": [
    "## Train"
   ]
  },
  {
   "cell_type": "markdown",
   "metadata": {},
   "source": [
    "#### part 1"
   ]
  },
  {
   "cell_type": "markdown",
   "metadata": {},
   "source": [
    "Data extraction and feature creation"
   ]
  },
  {
   "cell_type": "code",
   "execution_count": 3,
   "metadata": {},
   "outputs": [],
   "source": [
    "train_pd1 = pd.read_hdf('train_part_1_v2.hdf', mode='r')\n",
    "chf_train1 = train_pd1.swifter.apply(utils.find_closest_hit_per_station, result_type=\"expand\", axis=1)\n",
    "train_all1 = pd.concat((train_pd1, chf_train1), axis=1)"
   ]
  },
  {
   "cell_type": "markdown",
   "metadata": {},
   "source": [
    "hdf creation"
   ]
  },
  {
   "cell_type": "code",
   "execution_count": 11,
   "metadata": {},
   "outputs": [
    {
     "data": {
      "text/plain": [
       "<HDF5 dataset \"add_features\": shape (2722852, 5), type \"<f8\">"
      ]
     },
     "execution_count": 11,
     "metadata": {},
     "output_type": "execute_result"
    }
   ],
   "source": [
    "train_hdf1 = h5py.File('train1.hdf', mode = 'a')\n",
    "train_hdf1.create_dataset('features', data=(train_all1[features].values))\n",
    "train_hdf1.create_dataset('labels', data=(train_all1['label'].values))\n",
    "train_hdf1.create_dataset('add_features', data=(train_all1[add_features].values))\n",
    "train_hdf1.close()"
   ]
  },
  {
   "cell_type": "markdown",
   "metadata": {},
   "source": [
    "#### part 2"
   ]
  },
  {
   "cell_type": "markdown",
   "metadata": {},
   "source": [
    "Data extraction and feature creation"
   ]
  },
  {
   "cell_type": "code",
   "execution_count": 3,
   "metadata": {},
   "outputs": [],
   "source": [
    "train_pd2 = pd.read_hdf('train_part_2_v2.hdf', mode='r')\n",
    "train_pd2.index = range(train_pd2.shape[0])\n",
    "chf_train2 = train_pd2.swifter.apply(utils.find_closest_hit_per_station, result_type=\"expand\", axis=1)\n",
    "train_all2 = pd.concat((train_pd2, chf_train2), axis=1)"
   ]
  },
  {
   "cell_type": "markdown",
   "metadata": {},
   "source": [
    "hdf creation"
   ]
  },
  {
   "cell_type": "code",
   "execution_count": 8,
   "metadata": {},
   "outputs": [
    {
     "data": {
      "text/plain": [
       "<HDF5 dataset \"add_features\": shape (2722853, 5), type \"<f8\">"
      ]
     },
     "execution_count": 8,
     "metadata": {},
     "output_type": "execute_result"
    }
   ],
   "source": [
    "train_hdf2 = h5py.File('train2.hdf', mode = 'a')\n",
    "train_hdf2.create_dataset('features', data=(train_all2[features].values))\n",
    "train_hdf2.create_dataset('labels', data=(train_all2['label'].values))\n",
    "train_hdf2.create_dataset('add_features', data=(train_all2[add_features].values))\n",
    "train_hdf2.close()"
   ]
  },
  {
   "cell_type": "markdown",
   "metadata": {},
   "source": [
    "## Test private"
   ]
  },
  {
   "cell_type": "markdown",
   "metadata": {},
   "source": [
    "Data extraction and feature creation"
   ]
  },
  {
   "cell_type": "code",
   "execution_count": 2,
   "metadata": {},
   "outputs": [],
   "source": [
    "test_pr_pd = pd.read_hdf('test_private_v2_track_1.hdf', mode='r')\n",
    "chf_pr_test = test_pr_pd.swifter.apply(utils.find_closest_hit_per_station, result_type=\"expand\", axis=1)\n",
    "test_pr_all = pd.concat((test_pr_pd, chf_pr_test), axis=1)"
   ]
  },
  {
   "cell_type": "markdown",
   "metadata": {},
   "source": [
    "hdf creation"
   ]
  },
  {
   "cell_type": "code",
   "execution_count": 11,
   "metadata": {},
   "outputs": [
    {
     "data": {
      "text/plain": [
       "<HDF5 dataset \"add_features\": shape (2722852, 5), type \"<f8\">"
      ]
     },
     "execution_count": 11,
     "metadata": {},
     "output_type": "execute_result"
    }
   ],
   "source": [
    "test_pr_hdf = h5py.File('test_private.hdf', mode = 'a')\n",
    "test_pr_hdf.create_dataset('feature', data=test_all[features].values)\n",
    "test_pr_hdf.close()"
   ]
  }
 ],
 "metadata": {
  "kernelspec": {
   "display_name": "Python 3",
   "language": "python",
   "name": "python3"
  },
  "language_info": {
   "codemirror_mode": {
    "name": "ipython",
    "version": 3
   },
   "file_extension": ".py",
   "mimetype": "text/x-python",
   "name": "python",
   "nbconvert_exporter": "python",
   "pygments_lexer": "ipython3",
   "version": "3.6.5"
  }
 },
 "nbformat": 4,
 "nbformat_minor": 2
}
